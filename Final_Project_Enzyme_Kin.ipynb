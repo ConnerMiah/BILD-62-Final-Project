{
 "cells": [
  {
   "cell_type": "code",
   "execution_count": 30,
   "id": "b676c0e4-3b5f-4445-b038-bdf86c71d973",
   "metadata": {},
   "outputs": [],
   "source": [
    "#Below are a couple of installment cells that ensure our interactive widgets are correctly imported and installed, these must be ran before using our model code"
   ]
  },
  {
   "cell_type": "code",
   "execution_count": 31,
   "id": "ca318d6f-072d-427a-83cd-1fabe02040a4",
   "metadata": {},
   "outputs": [
    {
     "name": "stdout",
     "output_type": "stream",
     "text": [
      "Defaulting to user installation because normal site-packages is not writeable\n",
      "Requirement already satisfied: ipywidgets in /opt/conda/lib/python3.11/site-packages (8.1.2)\n",
      "Requirement already satisfied: comm>=0.1.3 in /opt/conda/lib/python3.11/site-packages (from ipywidgets) (0.2.2)\n",
      "Requirement already satisfied: ipython>=6.1.0 in /opt/conda/lib/python3.11/site-packages (from ipywidgets) (8.22.2)\n",
      "Requirement already satisfied: traitlets>=4.3.1 in /opt/conda/lib/python3.11/site-packages (from ipywidgets) (5.14.2)\n",
      "Requirement already satisfied: widgetsnbextension~=4.0.10 in /opt/conda/lib/python3.11/site-packages (from ipywidgets) (4.0.10)\n",
      "Requirement already satisfied: jupyterlab-widgets~=3.0.10 in /opt/conda/lib/python3.11/site-packages (from ipywidgets) (3.0.10)\n",
      "Requirement already satisfied: decorator in /opt/conda/lib/python3.11/site-packages (from ipython>=6.1.0->ipywidgets) (5.1.1)\n",
      "Requirement already satisfied: jedi>=0.16 in /opt/conda/lib/python3.11/site-packages (from ipython>=6.1.0->ipywidgets) (0.19.1)\n",
      "Requirement already satisfied: matplotlib-inline in /opt/conda/lib/python3.11/site-packages (from ipython>=6.1.0->ipywidgets) (0.1.7)\n",
      "Requirement already satisfied: prompt-toolkit<3.1.0,>=3.0.41 in /opt/conda/lib/python3.11/site-packages (from ipython>=6.1.0->ipywidgets) (3.0.42)\n",
      "Requirement already satisfied: pygments>=2.4.0 in /opt/conda/lib/python3.11/site-packages (from ipython>=6.1.0->ipywidgets) (2.17.2)\n",
      "Requirement already satisfied: stack-data in /opt/conda/lib/python3.11/site-packages (from ipython>=6.1.0->ipywidgets) (0.6.2)\n",
      "Requirement already satisfied: pexpect>4.3 in /opt/conda/lib/python3.11/site-packages (from ipython>=6.1.0->ipywidgets) (4.9.0)\n",
      "Requirement already satisfied: parso<0.9.0,>=0.8.3 in /opt/conda/lib/python3.11/site-packages (from jedi>=0.16->ipython>=6.1.0->ipywidgets) (0.8.4)\n",
      "Requirement already satisfied: ptyprocess>=0.5 in /opt/conda/lib/python3.11/site-packages (from pexpect>4.3->ipython>=6.1.0->ipywidgets) (0.7.0)\n",
      "Requirement already satisfied: wcwidth in /opt/conda/lib/python3.11/site-packages (from prompt-toolkit<3.1.0,>=3.0.41->ipython>=6.1.0->ipywidgets) (0.2.13)\n",
      "Requirement already satisfied: executing>=1.2.0 in /opt/conda/lib/python3.11/site-packages (from stack-data->ipython>=6.1.0->ipywidgets) (2.0.1)\n",
      "Requirement already satisfied: asttokens>=2.1.0 in /opt/conda/lib/python3.11/site-packages (from stack-data->ipython>=6.1.0->ipywidgets) (2.4.1)\n",
      "Requirement already satisfied: pure-eval in /opt/conda/lib/python3.11/site-packages (from stack-data->ipython>=6.1.0->ipywidgets) (0.2.2)\n",
      "Requirement already satisfied: six>=1.12.0 in /opt/conda/lib/python3.11/site-packages (from asttokens>=2.1.0->stack-data->ipython>=6.1.0->ipywidgets) (1.16.0)\n",
      "Note: you may need to restart the kernel to use updated packages.\n"
     ]
    }
   ],
   "source": [
    "pip install ipywidgets"
   ]
  },
  {
   "cell_type": "code",
   "execution_count": 37,
   "id": "4b96a31a-130c-414e-abed-95843865528d",
   "metadata": {},
   "outputs": [],
   "source": [
    "from ipywidgets import interact, FloatSlider, IntSlider"
   ]
  },
  {
   "cell_type": "code",
   "execution_count": 41,
   "id": "de02085e-1c77-44fe-8bfc-089276976e84",
   "metadata": {},
   "outputs": [
    {
     "data": {
      "application/vnd.jupyter.widget-view+json": {
       "model_id": "d081195ab9124c3089cf4eeb18662501",
       "version_major": 2,
       "version_minor": 0
      },
      "text/plain": [
       "interactive(children=(FloatSlider(value=25.0, description='Temperature (Celcius)', step=1.0), FloatSlider(valu…"
      ]
     },
     "metadata": {},
     "output_type": "display_data"
    },
    {
     "data": {
      "text/plain": [
       "<function __main__.plot_michaelis_menten(temp, pH, S_max)>"
      ]
     },
     "execution_count": 41,
     "metadata": {},
     "output_type": "execute_result"
    }
   ],
   "source": [
    "import numpy as np\n",
    "import matplotlib.pyplot as plt\n",
    "\n",
    "def michaelis_menten(S, Vmax, Km):\n",
    "    \"\"\"\n",
    "Parameters:\n",
    "    - S: Substrate concentration (This can be set as array or scalar)\n",
    "    - Vmax: Maximum reaction velocity\n",
    "    - Km: Michaelis constant\n",
    "    \n",
    "    Returns:\n",
    "    - v: Reaction velocity (Or rate of reaction)\n",
    "    \"\"\"\n",
    "    return (Vmax * S) / (Km + S)\n",
    "\n",
    "def adjust_vmax_temp_pH(temp, pH, ideal_temp, ideal_pH, base_Vmax):\n",
    "    \"\"\"\n",
    "    This allows for Vmax to be adjusted based on temperature and pH as inputs.\n",
    "    We do this using the Gaussian model of effect for tempterature and pH where: effect = e-((x-xideal)^2/(2σ^2)). \n",
    "    - x is the current condition \n",
    "    - xideal is the ideal value for condition\n",
    "    - σ is the assumed standard deviation\n",
    "    \"\"\"\n",
    "    temp_effect = np.exp(-((temp - ideal_temp)**2)/(2 * 10**2)) \n",
    "\n",
    "    #the assumed Standard Deviation above is 10\n",
    "\n",
    "    pH_effect = np.exp(-((pH - ideal_pH)**2)/(2 * 1**2))\n",
    "\n",
    "    #the assumed Standard Deviation above is 1\n",
    "\n",
    "    return base_Vmax * temp_effect * pH_effect\n",
    "\n",
    "def adjust_km_temp_pH(temp, pH, ideal_temp, ideal_pH, base_Km):\n",
    "    \"\"\"\n",
    "    This allows for Km to be adjusted based on temperature and pH as inputs.\n",
    "    This is also done using the Gaussian effect for temperature and pH.\n",
    "    \"\"\"\n",
    "    temp_effect = np.exp(-((temp - ideal_temp)**2)/(2 * 10**2))\n",
    "\n",
    "    #the assumed Standard Deviation above is 10\n",
    "    \n",
    "    pH_effect = np.exp(-((pH - ideal_pH)**2)/(2 * 1**2))\n",
    "    \n",
    "    #the assumed Standard Deviation above is 1\n",
    "    \n",
    "    return base_Km * (1/(temp_effect * pH_effect))\n",
    "\n",
    "def plot_michaelis_menten(temp,pH, S_max):\n",
    "    \n",
    "#Now we will plot the Michaelis-Menten curve based on our inputs by first setting our parameters.\n",
    "\n",
    "    ideal_temp = 37\n",
    "    #This ^ is the ideal temperature for the reaction in degrees Celcius \n",
    "    ideal_pH = 7.4\n",
    "    #This ^ is the ideal pH for the reaction\n",
    "    base_Vmax = 100\n",
    "    #This ^ is the base maximum valocity for the reaction\n",
    "    base_Km = 50\n",
    "    #This ^ is the base Michaelis constant for the reaction\n",
    "\n",
    "    #The below lines adjust Vmax and Km values based on temperature and pH.\n",
    "    Vmax = adjust_vmax_temp_pH(temp, pH, ideal_temp, ideal_pH, base_Vmax)\n",
    "    Km = adjust_km_temp_pH(temp, pH, ideal_temp, ideal_pH, base_Km)\n",
    "\n",
    "    #S is defined as the substrate concetration range \n",
    "    S = np.linspace(0, S_max, 500)\n",
    "\n",
    "    #The below line calculates the reaction velocity (v)\n",
    "    v = michaelis_menten(S, Vmax, Km)\n",
    "    \n",
    "    #Now, we create our plot for Michaelis-Menten Enzyme Kinetics (using fun squiggly brackets to convert our values to strings)\n",
    "    plt.figure(figsize=(10,6))\n",
    "    plt.plot(S, v, label=f\"{temp}Degrees Celcius, pH={pH}, Vmax={Vmax:.2f}, Km={Km:.2f}\")\n",
    "    plt.title(\"Enzyme Kinetics: Michaelis-Menten Model\", fontsize = 14)\n",
    "    plt.xlabel(\"Substrate Concentration [S]\", fontsize = 12)\n",
    "    plt.ylabel(\"Reaction Velocity (v)\", fontsize = 12)\n",
    "    plt.legend()\n",
    "    plt.grid()\n",
    "    plt.show()\n",
    "\n",
    "#lastly, we will create interactive widgets that allow the user to modify values of temperature and pH to observe changes\n",
    "interact(\n",
    "    plot_michaelis_menten,\n",
    "    temp = FloatSlider(value =25, min =0, max =100, step =1, description ='Temperature (Celcius)'),\n",
    "    #The above line creates a slider ranging from 0 to 100 that allows the user to set the temperature for the model\n",
    "    \n",
    "    pH = FloatSlider(value =7, min =0, max =14, step =0.1, description ='pH'),\n",
    "    #The above line similarly creates a slider ranging from 0 to 14 for the user to modify pH with\n",
    "\n",
    "    S_max = IntSlider(value =200, min =50, max =500, step =10, description ='S Max')\n",
    ")\n",
    "\n",
    "            \n",
    "\n",
    "\n"
   ]
  },
  {
   "cell_type": "code",
   "execution_count": null,
   "id": "208b6914-793b-4464-b25e-c3e759c54705",
   "metadata": {},
   "outputs": [],
   "source": []
  }
 ],
 "metadata": {
  "kernelspec": {
   "display_name": "Python 3 (ipykernel)",
   "language": "python",
   "name": "python3"
  },
  "language_info": {
   "codemirror_mode": {
    "name": "ipython",
    "version": 3
   },
   "file_extension": ".py",
   "mimetype": "text/x-python",
   "name": "python",
   "nbconvert_exporter": "python",
   "pygments_lexer": "ipython3",
   "version": "3.11.9"
  }
 },
 "nbformat": 4,
 "nbformat_minor": 5
}
